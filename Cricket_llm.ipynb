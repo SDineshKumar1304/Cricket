{
 "cells": [
  {
   "cell_type": "code",
   "execution_count": 1,
   "id": "9d9ab758",
   "metadata": {},
   "outputs": [],
   "source": [
    "import os\n",
    "import google.generativeai as genai\n",
    "from google.generativeai.types import HarmCategory, HarmBlockThreshold\n",
    "import pandas as pd"
   ]
  },
  {
   "cell_type": "code",
   "execution_count": 2,
   "id": "69ad12ca",
   "metadata": {},
   "outputs": [],
   "source": [
    "generation_config = {\n",
    "  \"temperature\": 1,\n",
    "  \"top_p\": 0.95,\n",
    "  \"top_k\": 64,\n",
    "  \"max_output_tokens\": 9929,\n",
    "  \"response_mime_type\": \"application/json\",\n",
    "}"
   ]
  },
  {
   "cell_type": "code",
   "execution_count": 3,
   "id": "77fbbf63",
   "metadata": {},
   "outputs": [],
   "source": [
    "key = 'YOUR_API_KEY'"
   ]
  },
  {
   "cell_type": "code",
   "execution_count": 4,
   "id": "ff361dd3",
   "metadata": {},
   "outputs": [],
   "source": [
    "genai.configure(api_key=key)"
   ]
  },
  {
   "cell_type": "code",
   "execution_count": 7,
   "id": "86793a55",
   "metadata": {},
   "outputs": [],
   "source": [
    "nmodel = genai.GenerativeModel(\n",
    "    model_name=\"gemini-1.5-pro\",\n",
    "    generation_config=generation_config,\n",
    "    system_instruction=\"\"\"\n",
    "        \n",
    "        Imagine you are a cricket coach you task is to give cricket advice for student and learners to improve their \n",
    "        performance \n",
    "          \n",
    "          eg : based on your uploaded video your footwork should be improved \n",
    "            keep eye on the ball\n",
    "      \"\"\"\n",
    ")\n"
   ]
  },
  {
   "cell_type": "code",
   "execution_count": 8,
   "id": "ef79968b",
   "metadata": {},
   "outputs": [],
   "source": [
    "full_scenario_description = \"\""
   ]
  },
  {
   "cell_type": "code",
   "execution_count": 15,
   "id": "d9d1687b",
   "metadata": {},
   "outputs": [
    {
     "name": "stdout",
     "output_type": "stream",
     "text": [
      "['cover']\n"
     ]
    }
   ],
   "source": [
    "import random\n",
    "\n",
    "shots = ['cut', 'pull', 'cover', 'flick', 'sweep']\n",
    "k = random.choices(shots)\n",
    "print(k)\n"
   ]
  },
  {
   "cell_type": "code",
   "execution_count": 16,
   "id": "c343c1f6",
   "metadata": {},
   "outputs": [],
   "source": [
    "response = nmodel.generate_content(f\"Cricket {k} drive\")  "
   ]
  },
  {
   "cell_type": "code",
   "execution_count": 17,
   "id": "c3eb5cd7",
   "metadata": {},
   "outputs": [
    {
     "data": {
      "text/markdown": [
       "{\"advice\": [\"Focus on your balance and weight transfer: Ensure a smooth transfer of weight from your back foot to your front foot as you play the cover drive. This helps generate power and timing.\", \"Keep your head still and your eye on the ball: Watch the ball closely from the moment it leaves the bowler's hand until it makes contact with your bat. Avoid moving your head too much, as this can affect your balance and shot selection.\", \"Play the ball late: Let the ball come to you as much as possible before playing the shot. This allows you to judge the line and length of the ball more accurately and make adjustments to your footwork.\", \"Extend your arms fully: As you make contact with the ball, extend your arms fully towards the cover region. This ensures that the ball travels in the desired direction and with maximum power.\", \"Follow through with your shot: After making contact with the ball, continue the movement of your bat in the direction of the shot. This helps maintain balance and ensures a smooth finish.\", \"Use a high elbow: Keeping a high elbow during the shot helps maintain control and direction.\", \"Practice regularly: Like any cricket shot, mastering the cover drive requires consistent practice. Dedicate time to practicing this shot in the nets to develop muscle memory and improve your technique.\", \"Footwork drills: Practice specific footwork drills to improve your movement towards the ball. Work on stepping towards the pitch of the ball and getting into the correct position to play the cover drive.\", \"Shadow practice: Shadow practice can be beneficial in improving your technique and getting a feel for the shot. Imagine the ball coming towards you and practice the cover drive movement.\", \"Watch professional cricketers: Observe how professional cricketers play the cover drive. Pay attention to their footwork, balance, and timing. This can help you identify areas for improvement in your own technique.\"]}"
      ],
      "text/plain": [
       "<IPython.core.display.Markdown object>"
      ]
     },
     "execution_count": 17,
     "metadata": {},
     "output_type": "execute_result"
    }
   ],
   "source": [
    "from IPython.display import  Markdown as md\n",
    "k = response.candidates[0].content.parts[0].text\n",
    "md(k)"
   ]
  },
  {
   "cell_type": "code",
   "execution_count": null,
   "id": "390e31e4",
   "metadata": {},
   "outputs": [],
   "source": []
  }
 ],
 "metadata": {
  "kernelspec": {
   "display_name": "Python 3 (ipykernel)",
   "language": "python",
   "name": "python3"
  },
  "language_info": {
   "codemirror_mode": {
    "name": "ipython",
    "version": 3
   },
   "file_extension": ".py",
   "mimetype": "text/x-python",
   "name": "python",
   "nbconvert_exporter": "python",
   "pygments_lexer": "ipython3",
   "version": "3.10.13"
  }
 },
 "nbformat": 4,
 "nbformat_minor": 5
}
